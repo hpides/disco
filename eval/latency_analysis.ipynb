{
 "cells": [
  {
   "cell_type": "code",
   "execution_count": 3,
   "metadata": {},
   "outputs": [
    {
     "name": "stdout",
     "output_type": "stream",
     "text": [
      "The autoreload extension is already loaded. To reload it, use:\n",
      "  %reload_ext autoreload\n"
     ]
    }
   ],
   "source": [
    "%load_ext autoreload\n",
    "%autoreload 2"
   ]
  },
  {
   "cell_type": "code",
   "execution_count": 4,
   "metadata": {},
   "outputs": [],
   "source": [
    "LOG_PATH=\"/Users/law/repos/ma/disco/benchmark-runs/runs_latency\""
   ]
  },
  {
   "cell_type": "code",
   "execution_count": 5,
   "metadata": {},
   "outputs": [],
   "source": [
    "import os\n",
    "import re\n",
    "\n",
    "RUN_RE = re.compile(r\"Running (\\d+) child.*, (\\d+) stream.*\")\n",
    "QUARTER_RE = re.compile(r\"Running with quarter events/s: (\\d+)\")\n",
    "HALF_RE = re.compile(r\"Running with half events/s: (\\d+)\")\n",
    "THREE_QUARTER_RE = re.compile(r\"Running with three quarter events/s: (\\d+)\")\n",
    "FULL_RE = re.compile(r\"Running with full events/s: (\\d+)\")\n",
    "\n",
    "def parse_log_file(log_file):\n",
    "    sustainable_throughputs= {}\n",
    "    \n",
    "    current_run = None\n",
    "    current_throughput = None\n",
    "    current_capacity = None\n",
    "    with open(log_file) as f:\n",
    "        for line in f:\n",
    "            run_match = RUN_RE.match(line)\n",
    "            if run_match is not None:\n",
    "                if current_run != None:\n",
    "                    print(f\"Did not find 'full events/s' line for {current_run}\")\n",
    "                current_run = (int(run_match.group(1)), int(run_match.group(2)))\n",
    "                current_throughput = None\n",
    "\n",
    "            throughput_match = QUARTER_RE.match(line)\n",
    "            if throughput_match is not None:\n",
    "                if current_throughput is not None:\n",
    "                    print(f\"Did not find run line after {current_run}\")\n",
    "                \n",
    "                current_capacity = throughput_match.group(1)\n",
    "                current_throughput = int(throughput_match.group(2))\n",
    "                current_run = None\n",
    "                \n",
    "    return sustainable_throughputs\n",
    "                \n",
    "\n",
    "ALL_THROUGHPUTS = {}\n",
    "for log_file in sorted(os.listdir(LOG_PATH)):\n",
    "    if log_file.endswith(\"-nodes-max.log\"):\n",
    "        print(f\"Parsing {log_file}\")\n",
    "        sustainable_throughputs = parse_log_file(os.path.join(LOG_PATH, log_file))\n",
    "        print(f\"current: {sustainable_throughputs}\")\n",
    "        ALL_THROUGHPUTS = {**ALL_THROUGHPUTS, **sustainable_throughputs}\n",
    "        print(f\"all:     {ALL_THROUGHPUTS}\\n\") "
   ]
  },
  {
   "cell_type": "code",
   "execution_count": null,
   "metadata": {},
   "outputs": [],
   "source": []
  }
 ],
 "metadata": {
  "kernelspec": {
   "display_name": "Python 3",
   "language": "python",
   "name": "python3"
  },
  "language_info": {
   "codemirror_mode": {
    "name": "ipython",
    "version": 3
   },
   "file_extension": ".py",
   "mimetype": "text/x-python",
   "name": "python",
   "nbconvert_exporter": "python",
   "pygments_lexer": "ipython3",
   "version": "3.7.4"
  }
 },
 "nbformat": 4,
 "nbformat_minor": 2
}
