{
 "cells": [
  {
   "cell_type": "code",
   "execution_count": null,
   "metadata": {},
   "outputs": [],
   "source": [
    "LOG_DIR = \"/Users/law/repos/ma/local_bm_runs\"\n",
    "LOG_FILE = f\"{LOG_DIR}/network_bm_2019_10_01_1011.log\""
   ]
  },
  {
   "cell_type": "code",
   "execution_count": null,
   "metadata": {},
   "outputs": [],
   "source": [
    "import re\n",
    "import tempfile\n",
    "import os\n",
    "import zipfile\n",
    "import shutil\n",
    "import subprocess\n",
    "from collections import defaultdict\n",
    "from pprint import pprint\n",
    "\n",
    "BENCHMARK_RE = re.compile(r\"BENCHMARK: WINDOWS: (.*) - AGG_FNS: (.*) - (DISTRIBUTED|SINGLE_NODE)\")\n",
    "RUN_RE = re.compile(r\"Running ((.*) intermediates, )?(\\d+) child.*, (\\d+) stream.*\")\n",
    "LOGS_RE = re.compile(r\"Writing logs to (.*)\")\n",
    "DATA_SIZE_RE = re.compile(r\"Data size:\\s+(\\d+) bytes\")"
   ]
  },
  {
   "cell_type": "code",
   "execution_count": null,
   "metadata": {},
   "outputs": [],
   "source": [
    "def analyze_file(capture_zip):\n",
    "    temp_dir = tempfile.gettempdir()\n",
    "    print(f\"Extracting to {temp_dir}\")\n",
    "    with zipfile.ZipFile(capture_zip) as zf:\n",
    "        zf.extractall(temp_dir)\n",
    "        \n",
    "    capture_file = os.path.join(temp_dir, \"network_capture.pcap\")\n",
    "    print(f\"Analyzing {capture_file}\")\n",
    "    analyzer = subprocess.run((\"capinfos\", \"-csdizyxuM\", capture_file), timeout=120, capture_output=True, text=True)\n",
    "\n",
    "    print(f\"Deleting {capture_file}\")\n",
    "    os.remove(capture_file)\n",
    "    return analyzer.stdout\n",
    "\n",
    "def analyze_capture_files(log_file):\n",
    "    temp_out_file_name = f\"{log_file}.temp\"\n",
    "    with open(temp_out_file_name, \"w\") as out_f:\n",
    "        with open(log_file) as f:\n",
    "            for line in f:\n",
    "                bm_match = BENCHMARK_RE.match(line)\n",
    "                if bm_match is not None:\n",
    "                    out_f.write(line)\n",
    "\n",
    "                run_match = RUN_RE.match(line)\n",
    "                if run_match is not None:\n",
    "                    out_f.write(line)\n",
    "\n",
    "                logs_match = LOGS_RE.match(line)\n",
    "                if logs_match is not None:\n",
    "                    analysis_lines = analyze_file(os.path.join(logs_match.group(1), \"network_capture.zip\"))\n",
    "                    out_f.write(analysis_lines)\n",
    "    print(f\"Moving {log_file} to {log_file}.backup\")\n",
    "    shutil.move(log_file, f\"{log_file}.backup\")\n",
    "    print(f\"Moving {temp_out_file_name} to {log_file}\")\n",
    "    shutil.move(temp_out_file_name, log_file)"
   ]
  },
  {
   "cell_type": "code",
   "execution_count": null,
   "metadata": {},
   "outputs": [],
   "source": [
    "def get_network_sizes(log_file):\n",
    "    current_bm = (None, None, None)\n",
    "    data_sizes = defaultdict(dict)\n",
    "    with open(log_file) as f:\n",
    "        for line in f:\n",
    "            bm_match = BENCHMARK_RE.match(line)\n",
    "            if bm_match is not None:\n",
    "                current_bm = (bm_match.group(1), bm_match.group(2), bm_match.group(3))\n",
    "                continue\n",
    "                \n",
    "            run_match = RUN_RE.match(line)\n",
    "            if run_match is not None:\n",
    "                current_run = (run_match.group(2), int(run_match.group(3)), int(run_match.group(4))) \n",
    "                continue\n",
    "                \n",
    "            data_match = DATA_SIZE_RE.match(line)\n",
    "            if data_match is not None:\n",
    "                data_size = int(data_match.group(1))\n",
    "                data_sizes[current_bm][current_run] = data_size\n",
    "                continue\n",
    "            \n",
    "    return data_sizes"
   ]
  },
  {
   "cell_type": "code",
   "execution_count": null,
   "metadata": {},
   "outputs": [],
   "source": [
    "NETWORK_SIZES = get_network_sizes(LOG_FILE)\n",
    "pprint(NETWORK_SIZES)"
   ]
  },
  {
   "cell_type": "code",
   "execution_count": null,
   "metadata": {},
   "outputs": [],
   "source": []
  }
 ],
 "metadata": {
  "kernelspec": {
   "display_name": "Python 3",
   "language": "python",
   "name": "python3"
  },
  "language_info": {
   "codemirror_mode": {
    "name": "ipython",
    "version": 3
   },
   "file_extension": ".py",
   "mimetype": "text/x-python",
   "name": "python",
   "nbconvert_exporter": "python",
   "pygments_lexer": "ipython3",
   "version": "3.7.4"
  }
 },
 "nbformat": 4,
 "nbformat_minor": 2
}
