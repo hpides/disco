{
 "cells": [
  {
   "cell_type": "code",
   "execution_count": null,
   "metadata": {},
   "outputs": [],
   "source": [
    "%load_ext autoreload\n",
    "%autoreload 2"
   ]
  },
  {
   "cell_type": "code",
   "execution_count": null,
   "metadata": {},
   "outputs": [],
   "source": [
    "LOG_PATH=\"/Users/law/repos/ma/disco/benchmark-runs/2019-29-05-1411-3-nodes/root.log\""
   ]
  },
  {
   "cell_type": "code",
   "execution_count": null,
   "metadata": {},
   "outputs": [],
   "source": [
    "import log_analyzer as la\n",
    "\n",
    "WINDOWS = la.parse_log(LOG_PATH)\n",
    "AGGREGATES = [w.aggregate for w in WINDOWS if w.window_start >= 10000]"
   ]
  },
  {
   "cell_type": "code",
   "execution_count": null,
   "metadata": {},
   "outputs": [],
   "source": [
    "import numpy as np\n",
    "\n",
    "average = int(np.average(AGGREGATES))\n",
    "std_dev = int(np.std(AGGREGATES))\n",
    "median = int(np.median(AGGREGATES))\n",
    "max_events = max(AGGREGATES)\n",
    "\n",
    "max_len = len(str(max_events))\n",
    "def format(number, width=max_len):\n",
    "    new_width = width + (width // 3)\n",
    "    return ('{0:,}'.format(number)).replace(',', '.').rjust(new_width)\n",
    "\n",
    "print(f\"Max:     {format(max_events)} events/s\")\n",
    "print(f\"Average: {format(average)} events/s\")\n",
    "print(f\"Median:  {format(median)} events/s\")\n",
    "print(f\"Std Dev: {format(std_dev)} events\")"
   ]
  }
 ],
 "metadata": {
  "kernelspec": {
   "display_name": "Python 3",
   "language": "python",
   "name": "python3"
  },
  "language_info": {
   "codemirror_mode": {
    "name": "ipython",
    "version": 3
   },
   "file_extension": ".py",
   "mimetype": "text/x-python",
   "name": "python",
   "nbconvert_exporter": "python",
   "pygments_lexer": "ipython3",
   "version": "3.7.4"
  }
 },
 "nbformat": 4,
 "nbformat_minor": 2
}
