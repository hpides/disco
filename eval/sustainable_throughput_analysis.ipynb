{
 "cells": [
  {
   "cell_type": "code",
   "execution_count": 1,
   "metadata": {},
   "outputs": [],
   "source": [
    "%load_ext autoreload\n",
    "%autoreload 2"
   ]
  },
  {
   "cell_type": "code",
   "execution_count": 2,
   "metadata": {},
   "outputs": [],
   "source": [
    "LOG_PATH=\"/Users/law/repos/ma/disco/benchmark-runs/runs_sustainable_throughput\""
   ]
  },
  {
   "cell_type": "code",
   "execution_count": 24,
   "metadata": {},
   "outputs": [
    {
     "name": "stdout",
     "output_type": "stream",
     "text": [
      "Parsing sustainable_run_2019-27-08-1116-8-nodes-max.log\n",
      "Did not find candidate line for (1, 2)\n",
      "current: {(1, 1): 644531, (1, 4): 240234, (1, 8): 117187}\n",
      "all:     {(1, 1): 644531, (1, 4): 240234, (1, 8): 117187}\n",
      "\n",
      "Parsing sustainable_run_2019-27-08-1748-1-child-8-nodes-max.log\n",
      "current: {(1, 1): 650390, (1, 2): 445312, (1, 4): 222656, (1, 8): 117187}\n",
      "all:     {(1, 1): 650390, (1, 4): 222656, (1, 8): 117187, (1, 2): 445312}\n",
      "\n",
      "Parsing sustainable_run_2019-27-08-1901-1-child-1-nodes-max.log\n",
      "current: {(1, 1): 906250}\n",
      "all:     {(1, 1): 906250, (1, 4): 222656, (1, 8): 117187, (1, 2): 445312}\n",
      "\n"
     ]
    }
   ],
   "source": [
    "import os\n",
    "import re\n",
    "\n",
    "RUN_RE = re.compile(r\"Running (\\d+) child.*, (\\d+) stream.*\")\n",
    "THROUGHPUT_RE = re.compile(r\"Found sustainable candidate \\((\\d+) events/s.\\)*\")\n",
    "\n",
    "def parse_log_file(log_file):\n",
    "    sustainable_throughputs= {}\n",
    "    \n",
    "    current_run = None\n",
    "    current_throughput = None\n",
    "    with open(log_file) as f:\n",
    "        for line in f:\n",
    "            run_match = RUN_RE.match(line)\n",
    "            if run_match is not None:\n",
    "                if current_run != None:\n",
    "                    print(f\"Did not find candidate line for {current_run}\")\n",
    "                current_run = (int(run_match.group(1)), int(run_match.group(2)))\n",
    "                current_throughput = None\n",
    "\n",
    "            throughput_match = THROUGHPUT_RE.match(line)\n",
    "            if throughput_match is not None:\n",
    "                if current_throughput is not None:\n",
    "                    print(f\"Did not find run line after {current_run}\")\n",
    "                current_throughput = int(throughput_match.group(1))\n",
    "                sustainable_throughputs[current_run] = current_throughput\n",
    "                current_run = None\n",
    "                \n",
    "    return sustainable_throughputs\n",
    "                \n",
    "\n",
    "ALL_THROUGHPUTS = {}\n",
    "for log_file in sorted(os.listdir(LOG_PATH)):\n",
    "    if log_file.endswith(\"-nodes-max.log\"):\n",
    "        print(f\"Parsing {log_file}\")\n",
    "        sustainable_throughputs = parse_log_file(os.path.join(LOG_PATH, log_file))\n",
    "        print(f\"current: {sustainable_throughputs}\")\n",
    "        ALL_THROUGHPUTS = {**ALL_THROUGHPUTS, **sustainable_throughputs}\n",
    "        print(f\"all:     {ALL_THROUGHPUTS}\\n\")        "
   ]
  },
  {
   "cell_type": "code",
   "execution_count": 25,
   "metadata": {},
   "outputs": [
    {
     "name": "stdout",
     "output_type": "stream",
     "text": [
      "Sustainable throughput for 1 child(ren) with 1 stream(s) each is 906250 events/s.\n",
      "Sustainable throughput for 1 child(ren) with 2 stream(s) each is 890624 events/s.\n",
      "Sustainable throughput for 1 child(ren) with 4 stream(s) each is 890624 events/s.\n",
      "Sustainable throughput for 1 child(ren) with 8 stream(s) each is 937496 events/s.\n"
     ]
    }
   ],
   "source": [
    "for (num_children, num_streams), throughput in sorted(ALL_THROUGHPUTS.items()):\n",
    "    print(f\"Sustainable throughput for {num_children} child(ren) with \" \\\n",
    "          f\"{num_streams // num_children} stream(s) each \" \\\n",
    "          f\"is {throughput * num_streams} events/s.\")"
   ]
  },
  {
   "cell_type": "markdown",
   "metadata": {},
   "source": [
    "# Plots"
   ]
  },
  {
   "cell_type": "code",
   "execution_count": null,
   "metadata": {},
   "outputs": [],
   "source": [
    "from matplotlib import rcParams\n",
    "rcParams.update({'figure.autolayout': True, 'pgf.rcfonts' : False})"
   ]
  }
 ],
 "metadata": {
  "kernelspec": {
   "display_name": "Python 3",
   "language": "python",
   "name": "python3"
  },
  "language_info": {
   "codemirror_mode": {
    "name": "ipython",
    "version": 3
   },
   "file_extension": ".py",
   "mimetype": "text/x-python",
   "name": "python",
   "nbconvert_exporter": "python",
   "pygments_lexer": "ipython3",
   "version": "3.7.4"
  }
 },
 "nbformat": 4,
 "nbformat_minor": 2
}
