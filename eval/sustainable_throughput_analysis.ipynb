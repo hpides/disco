{
 "cells": [
  {
   "cell_type": "code",
   "execution_count": null,
   "metadata": {},
   "outputs": [],
   "source": [
    "%load_ext autoreload\n",
    "%autoreload 2"
   ]
  },
  {
   "cell_type": "code",
   "execution_count": null,
   "metadata": {},
   "outputs": [],
   "source": [
    "LOG_PATH=\"/Users/law/drive/uni/msc/ma/benchmarks/matrix_run\""
   ]
  },
  {
   "cell_type": "code",
   "execution_count": null,
   "metadata": {},
   "outputs": [],
   "source": [
    "import os\n",
    "import re\n",
    "\n",
    "RUN_RE = re.compile(r\"Running (\\d+) child.*, (\\d+) stream.*\")\n",
    "THROUGHPUT_RE = re.compile(r\"Found sustainable candidate \\((\\d+) events/s.\\)*\")\n",
    "BENCHMARK_RE = re.compile(r\"BENCHMARK: WINDOWS: (.*) - AGG_FNS: (.*)\")\n",
    "\n",
    "def parse_log_file(log_file):\n",
    "    sustainable_throughputs = {}\n",
    "    \n",
    "    current_bm = None\n",
    "    current_run = None\n",
    "    current_throughput = None\n",
    "    with open(log_file) as f:\n",
    "        for line in f:\n",
    "            benchmark_match = BENCHMARK_RE.match(line)\n",
    "            if benchmark_match is not None:\n",
    "                current_bm = (benchmark_match.group(1), benchmark_match.group(2))\n",
    "                sustainable_throughputs[current_bm] = {}\n",
    "                current_throughput = None\n",
    "                print(current_bm)\n",
    "            \n",
    "            run_match = RUN_RE.match(line)\n",
    "            if run_match is not None:\n",
    "                if current_run != None:\n",
    "                    print(f\"Did not find candidate line for {current_run}\")\n",
    "                current_run = (int(run_match.group(1)), int(run_match.group(2)))\n",
    "                current_throughput = None\n",
    "                print(current_run)\n",
    "\n",
    "            throughput_match = THROUGHPUT_RE.match(line)\n",
    "            if throughput_match is not None:\n",
    "                if current_throughput is not None:\n",
    "                    print(f\"Did not find run line after {current_run}\")\n",
    "                current_throughput = int(throughput_match.group(1))\n",
    "                sustainable_throughputs[current_bm][current_run] = current_throughput\n",
    "                current_run = None\n",
    "                \n",
    "    if current_run is not None:\n",
    "        print(f\"Did not find candidate line for {current_run}\")\n",
    "                \n",
    "    return sustainable_throughputs\n",
    "                \n",
    "\n",
    "ALL_THROUGHPUTS = {}\n",
    "for log_file in sorted(os.listdir(LOG_PATH)):\n",
    "    if log_file.endswith(\".log\"):\n",
    "        print(f\"Parsing {log_file}\")\n",
    "        sustainable_throughputs = parse_log_file(os.path.join(LOG_PATH, log_file))\n",
    "        print(f\"current: {sustainable_throughputs}\")\n",
    "        ALL_THROUGHPUTS = {**ALL_THROUGHPUTS, **sustainable_throughputs}\n",
    "        print(f\"all:     {ALL_THROUGHPUTS}\\n\")        "
   ]
  },
  {
   "cell_type": "code",
   "execution_count": null,
   "metadata": {},
   "outputs": [],
   "source": [
    "for benchmark, run_throughputs in sorted(ALL_THROUGHPUTS.items()):\n",
    "    print(f\"Benchmark {benchmark}\")\n",
    "    for (num_children, num_streams), throughput in sorted(run_throughputs.items()):\n",
    "        print(f\"Total sustainable throughput for {num_children} child(ren) with \" \\\n",
    "              f\"{num_streams // num_children} stream(s) each \" \\\n",
    "              f\"is {(throughput * num_streams // num_children): >7d} events/s per child.\")\n",
    "    print()"
   ]
  },
  {
   "cell_type": "markdown",
   "metadata": {},
   "source": [
    "# Plots"
   ]
  },
  {
   "cell_type": "code",
   "execution_count": null,
   "metadata": {},
   "outputs": [],
   "source": [
    "from matplotlib import rcParams\n",
    "rcParams.update({'figure.autolayout': True, 'pgf.rcfonts' : False})"
   ]
  },
  {
   "cell_type": "markdown",
   "metadata": {},
   "source": [
    "### Plot Sustainable Throughput"
   ]
  },
  {
   "cell_type": "code",
   "execution_count": null,
   "metadata": {
    "scrolled": false
   },
   "outputs": [],
   "source": [
    "import matplotlib.pyplot as plt\n",
    "\n",
    "def plot_single_child_throughputs(child_streams, throughputs, title):\n",
    "    str_child_streams = [str(cs) for cs in child_streams]\n",
    "    plt.plot(throughputs)\n",
    "    plt.xticks(range(len(child_streams)), str_child_streams)\n",
    "    plt.ylabel(\"events/s in mio.\")\n",
    "    plt.xlabel(\"#children, # streams\")\n",
    "    plt.title(title)\n",
    "    plt.ylim(ymin=0, ymax=1.2)\n",
    "    plt.show()\n",
    "\n",
    "    \n",
    "for benchmark, run_throughputs in sorted(ALL_THROUGHPUTS.items()):\n",
    "    print(f\"Benchmark {benchmark}\")\n",
    "    bm_child_streams = []\n",
    "    bm_throughputs = []\n",
    "    for (num_children, num_streams), throughput in sorted(run_throughputs.items()):\n",
    "        if num_children != 1:\n",
    "            continue\n",
    "        bm_child_streams.append((num_children, num_streams)) \n",
    "        bm_throughputs.append((num_streams * throughput) / 1_000_000)\n",
    "    print(bm_child_streams)\n",
    "    print(bm_throughputs)\n",
    "    plot_single_child_throughputs(bm_child_streams, bm_throughputs, benchmark)"
   ]
  },
  {
   "cell_type": "code",
   "execution_count": null,
   "metadata": {
    "scrolled": false
   },
   "outputs": [],
   "source": [
    "import matplotlib.pyplot as plt\n",
    "\n",
    "\n",
    "def plot_multi_child_throghputs(child_streams, throughputs, title):\n",
    "    plt.bar(range(len(throughputs)), throughputs)\n",
    "    plt.ylabel(\"events/sin mio.\")\n",
    "    plt.xlabel(\"(#children, #streams)\")\n",
    "    plt.xticks(range(len(streams)), [f\"({n_child}, {n_stream})\" for n_child, n_stream in child_streams])\n",
    "    plt.title(title)\n",
    "    plt.ylim(ymin=0)\n",
    "    plt.show()\n",
    "\n",
    "    plt.plot(throughputs)\n",
    "    plt.ylabel(\"events/sin mio.\")\n",
    "    plt.xlabel(\"(#children, #streams)\")\n",
    "    plt.xticks(range(len(streams)), [f\"({n_child}, {n_stream})\" for n_child, n_stream in child_streams])\n",
    "    plt.title(title)\n",
    "    plt.ylim(ymin=0)\n",
    "    plt.show()\n",
    "\n",
    "for benchmark, run_throughputs in sorted(ALL_THROUGHPUTS.items()):\n",
    "    print(f\"Benchmark {benchmark}\")\n",
    "    bm_child_streams = []\n",
    "    bm_throughputs = []\n",
    "    for (num_children, num_streams), throughput in sorted(run_throughputs.items()):\n",
    "        if num_children != num_streams:\n",
    "            continue\n",
    "        bm_child_streams.append((num_children, num_streams)) \n",
    "        bm_throughputs.append((num_streams * throughput) / 1_000_000)\n",
    "    print(bm_child_streams)\n",
    "    print(bm_throughputs)\n",
    "    plot_multi_child_throghputs(bm_child_streams, bm_throughputs, benchmark)\n"
   ]
  }
 ],
 "metadata": {
  "kernelspec": {
   "display_name": "Python 3",
   "language": "python",
   "name": "python3"
  },
  "language_info": {
   "codemirror_mode": {
    "name": "ipython",
    "version": 3
   },
   "file_extension": ".py",
   "mimetype": "text/x-python",
   "name": "python",
   "nbconvert_exporter": "python",
   "pygments_lexer": "ipython3",
   "version": "3.7.4"
  }
 },
 "nbformat": 4,
 "nbformat_minor": 2
}
