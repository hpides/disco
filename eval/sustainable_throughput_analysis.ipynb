{
 "cells": [
  {
   "cell_type": "code",
   "execution_count": 1,
   "metadata": {},
   "outputs": [],
   "source": [
    "%load_ext autoreload\n",
    "%autoreload 2"
   ]
  },
  {
   "cell_type": "code",
   "execution_count": 105,
   "metadata": {},
   "outputs": [],
   "source": [
    "LOG_PATH=\"/Users/law/repos/ma/disco/benchmark-runs/runs_sustainable_throughput/tumbling_1000_max/\""
   ]
  },
  {
   "cell_type": "code",
   "execution_count": 111,
   "metadata": {},
   "outputs": [
    {
     "name": "stdout",
     "output_type": "stream",
     "text": [
      "Parsing sustainable_run_2019-08-30-1013-1to8-children-1to16-nodes-max.log\n",
      "current: {(1, 1): 968750, (1, 2): 921875, (1, 4): 453125, (1, 8): 234375, (2, 2): 1179687, (2, 4): 765625, (4, 4): 1171875, (4, 8): 734375, (8, 8): 1156250, (8, 16): 726562}\n",
      "all:     {(1, 1): 968750, (1, 2): 921875, (1, 4): 453125, (1, 8): 234375, (2, 2): 1179687, (2, 4): 765625, (4, 4): 1171875, (4, 8): 734375, (8, 8): 1156250, (8, 16): 726562}\n",
      "\n",
      "Parsing sustainable_run_2019-09-03-0943-1to8-children-1to16-nodes-max.log\n",
      "Did not find candidate line for (8, 8)\n",
      "current: {(1, 1): 1054687, (1, 2): 664062, (1, 4): 343750, (1, 8): 164062, (2, 2): 1085937, (2, 4): 601562, (4, 4): 1070312, (4, 8): 695312}\n",
      "all:     {(1, 1): 1054687, (1, 2): 664062, (1, 4): 343750, (1, 8): 164062, (2, 2): 1085937, (2, 4): 601562, (4, 4): 1070312, (4, 8): 695312, (8, 8): 1156250, (8, 16): 726562}\n",
      "\n"
     ]
    }
   ],
   "source": [
    "import os\n",
    "import re\n",
    "\n",
    "RUN_RE = re.compile(r\"Running (\\d+) child.*, (\\d+) stream.*\")\n",
    "THROUGHPUT_RE = re.compile(r\"Found sustainable candidate \\((\\d+) events/s.\\)*\")\n",
    "\n",
    "def parse_log_file(log_file):\n",
    "    sustainable_throughputs= {}\n",
    "    \n",
    "    current_run = None\n",
    "    current_throughput = None\n",
    "    with open(log_file) as f:\n",
    "        for line in f:\n",
    "            run_match = RUN_RE.match(line)\n",
    "            if run_match is not None:\n",
    "                if current_run != None:\n",
    "                    print(f\"Did not find candidate line for {current_run}\")\n",
    "                current_run = (int(run_match.group(1)), int(run_match.group(2)))\n",
    "                current_throughput = None\n",
    "\n",
    "            throughput_match = THROUGHPUT_RE.match(line)\n",
    "            if throughput_match is not None:\n",
    "                if current_throughput is not None:\n",
    "                    print(f\"Did not find run line after {current_run}\")\n",
    "                current_throughput = int(throughput_match.group(1))\n",
    "                sustainable_throughputs[current_run] = current_throughput\n",
    "                current_run = None\n",
    "                \n",
    "    if current_run is not None:\n",
    "        print(f\"Did not find candidate line for {current_run}\")\n",
    "                \n",
    "    return sustainable_throughputs\n",
    "                \n",
    "\n",
    "ALL_THROUGHPUTS = {}\n",
    "for log_file in sorted(os.listdir(LOG_PATH)):\n",
    "    if log_file.endswith(\"-nodes-max.log\"):\n",
    "        print(f\"Parsing {log_file}\")\n",
    "        sustainable_throughputs = parse_log_file(os.path.join(LOG_PATH, log_file))\n",
    "        print(f\"current: {sustainable_throughputs}\")\n",
    "        ALL_THROUGHPUTS = {**ALL_THROUGHPUTS, **sustainable_throughputs}\n",
    "        print(f\"all:     {ALL_THROUGHPUTS}\\n\")        "
   ]
  },
  {
   "cell_type": "code",
   "execution_count": 112,
   "metadata": {},
   "outputs": [
    {
     "name": "stdout",
     "output_type": "stream",
     "text": [
      "Total sustainable throughput for 1 child(ren) with 1 stream(s) each is 1054687 events/s per child.\n",
      "Total sustainable throughput for 1 child(ren) with 2 stream(s) each is 1328124 events/s per child.\n",
      "Total sustainable throughput for 1 child(ren) with 4 stream(s) each is 1375000 events/s per child.\n",
      "Total sustainable throughput for 1 child(ren) with 8 stream(s) each is 1312496 events/s per child.\n",
      "Total sustainable throughput for 2 child(ren) with 1 stream(s) each is 1085937 events/s per child.\n",
      "Total sustainable throughput for 2 child(ren) with 2 stream(s) each is 1203124 events/s per child.\n",
      "Total sustainable throughput for 4 child(ren) with 1 stream(s) each is 1070312 events/s per child.\n",
      "Total sustainable throughput for 4 child(ren) with 2 stream(s) each is 1390624 events/s per child.\n",
      "Total sustainable throughput for 8 child(ren) with 1 stream(s) each is 1156250 events/s per child.\n",
      "Total sustainable throughput for 8 child(ren) with 2 stream(s) each is 1453124 events/s per child.\n"
     ]
    }
   ],
   "source": [
    "for (num_children, num_streams), throughput in sorted(ALL_THROUGHPUTS.items()):\n",
    "    print(f\"Total sustainable throughput for {num_children} child(ren) with \" \\\n",
    "          f\"{num_streams // num_children} stream(s) each \" \\\n",
    "          f\"is {(throughput * num_streams // num_children): >7d} events/s per child.\")"
   ]
  },
  {
   "cell_type": "markdown",
   "metadata": {},
   "source": [
    "# Plots"
   ]
  },
  {
   "cell_type": "code",
   "execution_count": 113,
   "metadata": {},
   "outputs": [],
   "source": [
    "from matplotlib import rcParams\n",
    "rcParams.update({'figure.autolayout': True, 'pgf.rcfonts' : False})"
   ]
  },
  {
   "cell_type": "markdown",
   "metadata": {},
   "source": [
    "### Plot Sustainable Throughput"
   ]
  },
  {
   "cell_type": "code",
   "execution_count": 114,
   "metadata": {},
   "outputs": [
    {
     "name": "stdout",
     "output_type": "stream",
     "text": [
      "[(1, 1.054687), (2, 1.328124), (4, 1.375), (8, 1.312496)]\n",
      "(1, 2, 4, 8) (1.054687, 1.328124, 1.375, 1.312496)\n"
     ]
    },
    {
     "data": {
      "image/png": "[encoded data removed]",
      "text/plain": [
       "<Figure size 432x288 with 1 Axes>"
      ]
     },
     "metadata": {
      "needs_background": "light"
     },
     "output_type": "display_data"
    }
   ],
   "source": [
    "import matplotlib.pyplot as plt\n",
    "\n",
    "streams = sorted([(n_stream, (n_stream * throughput) / 1_000_000 ) \n",
    "                  for ((n_child, n_stream), throughput) \n",
    "                  in ALL_THROUGHPUTS.items() \n",
    "                  if n_child == 1])\n",
    "print(streams)\n",
    "\n",
    "streams, throughputs = list(zip(*streams))\n",
    "\n",
    "print(streams, throughputs)\n",
    "\n",
    "plt.plot(streams, throughputs)\n",
    "plt.ylabel(\"events/sin mio.\")\n",
    "plt.xlabel(\"# streams\")\n",
    "plt.xticks(range(10), [\"\", \"1\", \"2\", \"\", \"4\", \"\", \"\", \"\", \"8\", \"\"])\n",
    "plt.ylim(ymin=0, ymax=2)\n",
    "plt.legend([\"TUMBLING, 1 sec, MAX\"])\n",
    "plt.show()\n",
    "\n",
    "# if save_fig:\n",
    "#     plt.savefig(f\"load_{out_file_name}.svg\")\n",
    "#     plt.savefig(f\"load_{out_file_name}.pgf\")\n",
    "#     plt.savefig(f\"load_{out_file_name}.png\")\n",
    "# plt.show()"
   ]
  },
  {
   "cell_type": "code",
   "execution_count": 115,
   "metadata": {},
   "outputs": [
    {
     "name": "stdout",
     "output_type": "stream",
     "text": [
      "[((1, 1), 1.054687), ((1, 2), 1.328124), ((2, 2), 2.171874), ((2, 4), 2.406248), ((4, 4), 4.281248), ((4, 8), 5.562496), ((8, 8), 9.25), ((8, 16), 11.624992)]\n",
      "((1, 1), (1, 2), (2, 2), (2, 4), (4, 4), (4, 8), (8, 8), (8, 16)) (1.054687, 1.328124, 2.171874, 2.406248, 4.281248, 5.562496, 9.25, 11.624992)\n"
     ]
    },
    {
     "data": {
      "image/png": "[encoded data removed]",
      "text/plain": [
       "<Figure size 432x288 with 1 Axes>"
      ]
     },
     "metadata": {
      "needs_background": "light"
     },
     "output_type": "display_data"
    },
    {
     "data": {
      "image/png": "[encoded data removed]",
      "text/plain": [
       "<Figure size 432x288 with 1 Axes>"
      ]
     },
     "metadata": {
      "needs_background": "light"
     },
     "output_type": "display_data"
    }
   ],
   "source": [
    "import matplotlib.pyplot as plt\n",
    "\n",
    "streams = sorted([((n_child, n_stream), (n_stream * throughput) / 1_000_000 ) \n",
    "                  for ((n_child, n_stream), throughput) \n",
    "                  in ALL_THROUGHPUTS.items() \n",
    "                  if n_child == n_stream or n_child * 2 == n_stream])\n",
    "\n",
    "print(streams)\n",
    "\n",
    "streams, throughputs = list(zip(*streams))\n",
    "\n",
    "print(streams, throughputs)\n",
    "\n",
    "plt.bar(range(len(throughputs)), throughputs)\n",
    "plt.ylabel(\"events/sin mio.\")\n",
    "plt.xlabel(\"(#children, #streams)\")\n",
    "plt.xticks(range(len(streams)), [f\"({n_child}, {n_stream})\" for n_child, n_stream in streams])\n",
    "plt.legend([\"TUMBLING, 1 sec, MAX\"])\n",
    "plt.show()\n",
    "\n",
    "plt.plot(throughputs)\n",
    "plt.ylabel(\"events/sin mio.\")\n",
    "plt.xlabel(\"(#children, #streams)\")\n",
    "plt.xticks(range(len(streams)), [f\"({n_child}, {n_stream})\" for n_child, n_stream in streams])\n",
    "plt.legend([\"TUMBLING, 1 sec, MAX\"])\n",
    "plt.show()\n"
   ]
  },
  {
   "cell_type": "code",
   "execution_count": null,
   "metadata": {},
   "outputs": [],
   "source": []
  }
 ],
 "metadata": {
  "kernelspec": {
   "display_name": "Python 3",
   "language": "python",
   "name": "python3"
  },
  "language_info": {
   "codemirror_mode": {
    "name": "ipython",
    "version": 3
   },
   "file_extension": ".py",
   "mimetype": "text/x-python",
   "name": "python",
   "nbconvert_exporter": "python",
   "pygments_lexer": "ipython3",
   "version": "3.7.4"
  }
 },
 "nbformat": 4,
 "nbformat_minor": 2
}
