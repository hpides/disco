{
 "cells": [
  {
   "cell_type": "code",
   "execution_count": 1,
   "metadata": {},
   "outputs": [],
   "source": [
    "%load_ext autoreload\n",
    "%autoreload 2"
   ]
  },
  {
   "cell_type": "code",
   "execution_count": 78,
   "metadata": {},
   "outputs": [],
   "source": [
    "LOG_PATH=\"/Users/law/repos/ma/disco/benchmark-runs/runs_sustainable_throughput/tumbling_1000_max/\""
   ]
  },
  {
   "cell_type": "code",
   "execution_count": 79,
   "metadata": {},
   "outputs": [
    {
     "name": "stdout",
     "output_type": "stream",
     "text": [
      "Parsing sustainable_run_2019-08-28-1044-1-child-2to8-nodes-max.log\n",
      "current: {(1, 2): 492187, (1, 4): 257812, (1, 8): 117187}\n",
      "all:     {(1, 2): 492187, (1, 4): 257812, (1, 8): 117187}\n",
      "\n",
      "Parsing sustainable_run_2019-08-28-1140-2to4-children-16-nodes-max.log\n",
      "current: {(2, 2): 578125, (2, 4): 296875, (4, 4): 554687, (4, 8): 281250, (8, 8): 226562, (8, 16): 101562}\n",
      "all:     {(1, 2): 492187, (1, 4): 257812, (1, 8): 117187, (2, 2): 578125, (2, 4): 296875, (4, 4): 554687, (4, 8): 281250, (8, 8): 226562, (8, 16): 101562}\n",
      "\n",
      "Parsing sustainable_run_2019-08-28-1703-2to4-children-2to8-nodes-max.log\n",
      "Did not find candidate line for (8, 16)\n",
      "current: {(2, 2): 1085937, (2, 4): 742187, (4, 4): 1031250, (4, 8): 718750, (8, 8): 945312}\n",
      "all:     {(1, 2): 492187, (1, 4): 257812, (1, 8): 117187, (2, 2): 1085937, (2, 4): 742187, (4, 4): 1031250, (4, 8): 718750, (8, 8): 945312, (8, 16): 101562}\n",
      "\n",
      "Parsing sustainable_run_2019-08-28-1817-8-children-16-nodes-max.log\n",
      "current: {(8, 16): 687500}\n",
      "all:     {(1, 2): 492187, (1, 4): 257812, (1, 8): 117187, (2, 2): 1085937, (2, 4): 742187, (4, 4): 1031250, (4, 8): 718750, (8, 8): 945312, (8, 16): 687500}\n",
      "\n",
      "Parsing sustainable_run_2019-08-29-1002-1to8-children-1to16-nodes-max.log\n",
      "Did not find candidate line for (2, 2)\n",
      "current: {(1, 1): 1312500, (1, 2): 710937, (1, 4): 390625, (1, 8): 187500}\n",
      "all:     {(1, 2): 710937, (1, 4): 390625, (1, 8): 187500, (2, 2): 1085937, (2, 4): 742187, (4, 4): 1031250, (4, 8): 718750, (8, 8): 945312, (8, 16): 687500, (1, 1): 1312500}\n",
      "\n",
      "Parsing sustainable_run_2019-08-29-1002-2to8-children-1to16-nodes-max.log\n",
      "Did not find candidate line for (2, 4)\n",
      "Did not find candidate line for (4, 8)\n",
      "Did not find candidate line for (8, 16)\n",
      "current: {(2, 2): 1101562, (4, 4): 867187, (8, 8): 742187}\n",
      "all:     {(1, 2): 710937, (1, 4): 390625, (1, 8): 187500, (2, 2): 1101562, (2, 4): 742187, (4, 4): 867187, (4, 8): 718750, (8, 8): 742187, (8, 16): 687500, (1, 1): 1312500}\n",
      "\n",
      "Parsing sustainable_run_2019-08-29-1444-1to8-children-1to16-nodes-max.log\n",
      "Did not find candidate line for (2, 4)\n",
      "current: {(1, 1): 1164062, (1, 2): 835937, (1, 4): 437500, (1, 8): 210937, (2, 2): 1054687}\n",
      "all:     {(1, 2): 835937, (1, 4): 437500, (1, 8): 210937, (2, 2): 1054687, (2, 4): 742187, (4, 4): 867187, (4, 8): 718750, (8, 8): 742187, (8, 16): 687500, (1, 1): 1164062}\n",
      "\n",
      "Parsing sustainable_run_2019-08-30-1013-1to8-children-1to16-nodes-max.log\n",
      "current: {(1, 1): 968750, (1, 2): 921875, (1, 4): 453125, (1, 8): 234375, (2, 2): 1179687, (2, 4): 765625, (4, 4): 1171875, (4, 8): 734375, (8, 8): 1156250, (8, 16): 726562}\n",
      "all:     {(1, 2): 921875, (1, 4): 453125, (1, 8): 234375, (2, 2): 1179687, (2, 4): 765625, (4, 4): 1171875, (4, 8): 734375, (8, 8): 1156250, (8, 16): 726562, (1, 1): 968750}\n",
      "\n"
     ]
    }
   ],
   "source": [
    "import os\n",
    "import re\n",
    "\n",
    "RUN_RE = re.compile(r\"Running (\\d+) child.*, (\\d+) stream.*\")\n",
    "THROUGHPUT_RE = re.compile(r\"Found sustainable candidate \\((\\d+) events/s.\\)*\")\n",
    "\n",
    "def parse_log_file(log_file):\n",
    "    sustainable_throughputs= {}\n",
    "    \n",
    "    current_run = None\n",
    "    current_throughput = None\n",
    "    with open(log_file) as f:\n",
    "        for line in f:\n",
    "            run_match = RUN_RE.match(line)\n",
    "            if run_match is not None:\n",
    "                if current_run != None:\n",
    "                    print(f\"Did not find candidate line for {current_run}\")\n",
    "                current_run = (int(run_match.group(1)), int(run_match.group(2)))\n",
    "                current_throughput = None\n",
    "\n",
    "            throughput_match = THROUGHPUT_RE.match(line)\n",
    "            if throughput_match is not None:\n",
    "                if current_throughput is not None:\n",
    "                    print(f\"Did not find run line after {current_run}\")\n",
    "                current_throughput = int(throughput_match.group(1))\n",
    "                sustainable_throughputs[current_run] = current_throughput\n",
    "                current_run = None\n",
    "                \n",
    "    if current_run is not None:\n",
    "        print(f\"Did not find candidate line for {current_run}\")\n",
    "                \n",
    "    return sustainable_throughputs\n",
    "                \n",
    "\n",
    "ALL_THROUGHPUTS = {}\n",
    "for log_file in sorted(os.listdir(LOG_PATH)):\n",
    "    if log_file.endswith(\"-nodes-max.log\"):\n",
    "        print(f\"Parsing {log_file}\")\n",
    "        sustainable_throughputs = parse_log_file(os.path.join(LOG_PATH, log_file))\n",
    "        print(f\"current: {sustainable_throughputs}\")\n",
    "        ALL_THROUGHPUTS = {**ALL_THROUGHPUTS, **sustainable_throughputs}\n",
    "        print(f\"all:     {ALL_THROUGHPUTS}\\n\")        "
   ]
  },
  {
   "cell_type": "code",
   "execution_count": 80,
   "metadata": {},
   "outputs": [
    {
     "name": "stdout",
     "output_type": "stream",
     "text": [
      "Total sustainable throughput for 1 child(ren) with 1 stream(s) each is 968750 events/s.\n",
      "Total sustainable throughput for 1 child(ren) with 2 stream(s) each is 1843750 events/s.\n",
      "Total sustainable throughput for 1 child(ren) with 4 stream(s) each is 1812500 events/s.\n",
      "Total sustainable throughput for 1 child(ren) with 8 stream(s) each is 1875000 events/s.\n",
      "Total sustainable throughput for 2 child(ren) with 1 stream(s) each is 2359374 events/s.\n",
      "Total sustainable throughput for 2 child(ren) with 2 stream(s) each is 3062500 events/s.\n",
      "Total sustainable throughput for 4 child(ren) with 1 stream(s) each is 4687500 events/s.\n",
      "Total sustainable throughput for 4 child(ren) with 2 stream(s) each is 5875000 events/s.\n",
      "Total sustainable throughput for 8 child(ren) with 1 stream(s) each is 9250000 events/s.\n",
      "Total sustainable throughput for 8 child(ren) with 2 stream(s) each is 11624992 events/s.\n"
     ]
    }
   ],
   "source": [
    "for (num_children, num_streams), throughput in sorted(ALL_THROUGHPUTS.items()):\n",
    "    print(f\"Total sustainable throughput for {num_children} child(ren) with \" \\\n",
    "          f\"{num_streams // num_children} stream(s) each \" \\\n",
    "          f\"is {throughput * num_streams} events/s.\")"
   ]
  },
  {
   "cell_type": "markdown",
   "metadata": {},
   "source": [
    "# Plots"
   ]
  },
  {
   "cell_type": "code",
   "execution_count": 81,
   "metadata": {},
   "outputs": [],
   "source": [
    "from matplotlib import rcParams\n",
    "rcParams.update({'figure.autolayout': True, 'pgf.rcfonts' : False})"
   ]
  },
  {
   "cell_type": "markdown",
   "metadata": {},
   "source": [
    "### Plot Sustainable Throughput"
   ]
  },
  {
   "cell_type": "code",
   "execution_count": 85,
   "metadata": {},
   "outputs": [
    {
     "name": "stdout",
     "output_type": "stream",
     "text": [
      "[(1, 0.96875), (2, 1.84375), (4, 1.8125), (8, 1.875)]\n",
      "(1, 2, 4, 8) (0.96875, 1.84375, 1.8125, 1.875)\n"
     ]
    },
    {
     "data": {
      "image/png": "[encoded data removed]",
      "text/plain": [
       "<Figure size 432x288 with 1 Axes>"
      ]
     },
     "metadata": {
      "needs_background": "light"
     },
     "output_type": "display_data"
    }
   ],
   "source": [
    "import matplotlib.pyplot as plt\n",
    "\n",
    "streams = sorted([(n_stream, (n_stream * throughput) / 1_000_000 ) \n",
    "                  for ((n_child, n_stream), throughput) \n",
    "                  in ALL_THROUGHPUTS.items() \n",
    "                  if n_child == 1])\n",
    "print(streams)\n",
    "\n",
    "streams, throughputs = list(zip(*streams))\n",
    "\n",
    "print(streams, throughputs)\n",
    "\n",
    "plt.plot(streams, throughputs)\n",
    "plt.ylabel(\"events/sin mio.\")\n",
    "plt.xlabel(\"# streams\")\n",
    "# plt.xticks(range(10), [\"\", \"1\", \"2\", \"\", \"4\", \"\", \"\", \"\", \"8\", \"\"])\n",
    "plt.ylim(ymin=0, ymax=2)\n",
    "plt.legend([\"TUMBLING, 1 sec, MAX\"])\n",
    "plt.show()\n",
    "\n",
    "# if save_fig:\n",
    "#     plt.savefig(f\"load_{out_file_name}.svg\")\n",
    "#     plt.savefig(f\"load_{out_file_name}.pgf\")\n",
    "#     plt.savefig(f\"load_{out_file_name}.png\")\n",
    "# plt.show()"
   ]
  },
  {
   "cell_type": "code",
   "execution_count": 83,
   "metadata": {},
   "outputs": [
    {
     "name": "stdout",
     "output_type": "stream",
     "text": [
      "[((1, 1), 0.96875), ((1, 2), 1.84375), ((2, 2), 2.359374), ((2, 4), 3.0625), ((4, 4), 4.6875), ((4, 8), 5.875), ((8, 8), 9.25), ((8, 16), 11.624992)]\n",
      "((1, 1), (1, 2), (2, 2), (2, 4), (4, 4), (4, 8), (8, 8), (8, 16)) (0.96875, 1.84375, 2.359374, 3.0625, 4.6875, 5.875, 9.25, 11.624992)\n"
     ]
    },
    {
     "data": {
      "image/png": "[encoded data removed]",
      "text/plain": [
       "<Figure size 432x288 with 1 Axes>"
      ]
     },
     "metadata": {
      "needs_background": "light"
     },
     "output_type": "display_data"
    }
   ],
   "source": [
    "import matplotlib.pyplot as plt\n",
    "\n",
    "streams = sorted([((n_child, n_stream), (n_stream * throughput) / 1_000_000 ) \n",
    "                  for ((n_child, n_stream), throughput) \n",
    "                  in ALL_THROUGHPUTS.items() \n",
    "                  if n_child == n_stream or n_child * 2 == n_stream])\n",
    "\n",
    "print(streams)\n",
    "\n",
    "streams, throughputs = list(zip(*streams))\n",
    "\n",
    "print(streams, throughputs)\n",
    "\n",
    "plt.plot(throughputs)\n",
    "plt.ylabel(\"events/sin mio.\")\n",
    "plt.xlabel(\"(#children, #streams)\")\n",
    "plt.xticks(range(len(streams)), [f\"({n_child}, {n_stream})\" for n_child, n_stream in streams])\n",
    "plt.legend([\"TUMBLING, 1 sec, MAX\"])\n",
    "plt.show()\n"
   ]
  },
  {
   "cell_type": "code",
   "execution_count": null,
   "metadata": {},
   "outputs": [],
   "source": []
  }
 ],
 "metadata": {
  "kernelspec": {
   "display_name": "Python 3",
   "language": "python",
   "name": "python3"
  },
  "language_info": {
   "codemirror_mode": {
    "name": "ipython",
    "version": 3
   },
   "file_extension": ".py",
   "mimetype": "text/x-python",
   "name": "python",
   "nbconvert_exporter": "python",
   "pygments_lexer": "ipython3",
   "version": "3.7.4"
  }
 },
 "nbformat": 4,
 "nbformat_minor": 2
}
