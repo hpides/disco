{
 "cells": [
  {
   "cell_type": "code",
   "execution_count": null,
   "metadata": {},
   "outputs": [],
   "source": [
    "LOG_FILE=\"/Users/law/repos/ma/benchmark-runs/micro_measure_2/micro_measure.log\""
   ]
  },
  {
   "cell_type": "code",
   "execution_count": null,
   "metadata": {},
   "outputs": [],
   "source": [
    "import re\n",
    "from collections import defaultdict\n",
    "\n",
    "RECV_LINE = re.compile(r\"Avg receiving  time: (\\d+) ns.\")\n",
    "PROC_TIME = re.compile(r\"Avg processing time: (\\d+) ns.\")\n",
    "WM_PROC_LINE = re.compile(r\"Watermark processing took (\\d+) ns.\")\n",
    "WM_SEND_LINE = re.compile(r\"Watermark sending took (\\d+) ns.\")\n",
    "SESSION_LINE = re.compile(r\"Session start took (\\d+) ns.\")\n",
    "MAX_LINE = \"TUMBLING,1000 MAX\"\n",
    "AVG_LINE = \"TUMBLING,1000 M_AVG\"\n",
    "MEDIAN_LINE = \"TUMBLING,1000 M_MEDIAN\"\n",
    "\n",
    "FUNCTIONS = [\"median\", \"max\", \"avg\"]\n",
    "\n",
    "MATCHERS = [\n",
    "    (RECV_LINE, \"recv\"), (PROC_TIME, \"proc\"), \n",
    "    (WM_PROC_LINE, \"wm-proc\"), (WM_SEND_LINE, \"wm-send\"),\n",
    "    (SESSION_LINE, \"session\"),\n",
    "]\n",
    "\n",
    "def get_processing_times(log_file):\n",
    "    with open(log_file) as f:\n",
    "        times = {}\n",
    "        for fn in FUNCTIONS:\n",
    "            times[fn] = {}\n",
    "            for _, key in MATCHERS:\n",
    "                times[fn][key] = []\n",
    "\n",
    "        current_function = None\n",
    "        for line in f:\n",
    "            if MAX_LINE in line:\n",
    "                current_function = \"max\"\n",
    "            if AVG_LINE in line:\n",
    "                current_function = \"avg\"\n",
    "            if MEDIAN_LINE in line:\n",
    "                current_function = \"median\"\n",
    "\n",
    "            for matcher, key in MATCHERS:\n",
    "                match = matcher.match(line)\n",
    "                if match is not None:\n",
    "                    duration = int(match.group(1))\n",
    "                    times[current_function][key].append(duration)\n",
    "    return times\n",
    "\n",
    "\n",
    "ALL_TIMES = get_processing_times(LOG_FILE)\n",
    "print(ALL_TIMES)"
   ]
  },
  {
   "cell_type": "code",
   "execution_count": null,
   "metadata": {},
   "outputs": [],
   "source": [
    "CLEAN_TIMES = {}\n",
    "for fn, proc_times in ALL_TIMES.items():\n",
    "    CLEAN_TIMES[fn] = {}\n",
    "    for key, times in proc_times.items():\n",
    "        num_times = len(times)\n",
    "        cut_off = max(1, int(num_times * 0.05))\n",
    "        cut_times = times[cut_off:-cut_off] \n",
    "        avg = sum(cut_times) / len(cut_times)\n",
    "        print(f\"{fn} - {key}: {avg:.2f} ns ({num_times} values)\")\n",
    "        CLEAN_TIMES[fn][key] = cut_times\n",
    "        CLEAN_TIMES[fn][f\"avg-{key}\"] = avg\n",
    "\n",
    "print(\"\\n======\\n\")\n",
    "        \n",
    "for fn, proc_times in CLEAN_TIMES.items():\n",
    "    recv = proc_times['avg-recv']\n",
    "    proc = proc_times['avg-proc']\n",
    "    avg_both = recv + proc\n",
    "    one_sec_ns = 1_000_000_000\n",
    "    max_per_sec = one_sec_ns / avg_both\n",
    "    # We measure 33ns duration for each call to System.nanoTime(), so we add it to second\n",
    "    syscall_ns = 33 * 4\n",
    "    clean_sec_ns = one_sec_ns + (max_per_sec * syscall_ns)\n",
    "    max_per_sec_clean = clean_sec_ns / avg_both\n",
    "    print(f\"{fn}: {max_per_sec:.0f} events/s.\")\n",
    "    print(f\"{fn}: {max_per_sec_clean:.0f} clean events/s.\")\n",
    "        "
   ]
  },
  {
   "cell_type": "code",
   "execution_count": null,
   "metadata": {},
   "outputs": [],
   "source": [
    "import matplotlib.pyplot as plt\n",
    "import numpy as np\n",
    "from matplotlib import rcParams\n",
    "rcParams.update({'figure.autolayout': True, 'pgf.rcfonts' : False})"
   ]
  },
  {
   "cell_type": "code",
   "execution_count": null,
   "metadata": {},
   "outputs": [],
   "source": [
    "def plot_proc_times(fn, proc_times):\n",
    "    entries = sorted(proc_times.items())\n",
    "    keys, times = zip(*entries)\n",
    "    N = len(keys)\n",
    "    plt.boxplot(times, showfliers=False)\n",
    "    plt.xticks(range(1, len(keys) + 1), keys)\n",
    "    plt.yscale('log')\n",
    "    plt.title(fn)\n",
    "    plt.show()\n",
    "\n",
    "for fn in FUNCTIONS:\n",
    "    plot_proc_times(fn, ALL_TIMES[fn])"
   ]
  },
  {
   "cell_type": "code",
   "execution_count": null,
   "metadata": {},
   "outputs": [],
   "source": []
  }
 ],
 "metadata": {
  "kernelspec": {
   "display_name": "Python 3",
   "language": "python",
   "name": "python3"
  },
  "language_info": {
   "codemirror_mode": {
    "name": "ipython",
    "version": 3
   },
   "file_extension": ".py",
   "mimetype": "text/x-python",
   "name": "python",
   "nbconvert_exporter": "python",
   "pygments_lexer": "ipython3",
   "version": "3.7.4"
  }
 },
 "nbformat": 4,
 "nbformat_minor": 2
}
